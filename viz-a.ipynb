{
 "metadata": {
  "language_info": {
   "codemirror_mode": {
    "name": "ipython",
    "version": 3
   },
   "file_extension": ".py",
   "mimetype": "text/x-python",
   "name": "python",
   "nbconvert_exporter": "python",
   "pygments_lexer": "ipython3",
   "version": "3.9.0-final"
  },
  "orig_nbformat": 2,
  "kernelspec": {
   "name": "python3",
   "display_name": "Python 3.9.0 64-bit ('.venv')",
   "metadata": {
    "interpreter": {
     "hash": "f846fff8bfd0173047ff244ad2ff0735bc6ea9e31377fba3c995396d6639a949"
    }
   }
  }
 },
 "nbformat": 4,
 "nbformat_minor": 2,
 "cells": [
  {
   "cell_type": "code",
   "execution_count": 2,
   "metadata": {},
   "outputs": [],
   "source": [
    "import pandas as pd\n",
    "import seaborn as sns\n",
    "import matplotlib.pyplot as plt "
   ]
  },
  {
   "cell_type": "code",
   "execution_count": 3,
   "metadata": {},
   "outputs": [],
   "source": [
    "df = pd.read_csv('./car_train.csv')"
   ]
  },
  {
   "cell_type": "code",
   "execution_count": 4,
   "metadata": {},
   "outputs": [
    {
     "output_type": "stream",
     "name": "stdout",
     "text": [
      "<class 'pandas.core.frame.DataFrame'>\nRangeIndex: 38506 entries, 0 to 38505\nData columns (total 18 columns):\n #   Column            Non-Null Count  Dtype  \n---  ------            --------------  -----  \n 0   rownum            38506 non-null  int64  \n 1   price             38503 non-null  float64\n 2   acquisition_date  38506 non-null  object \n 3   badge             36933 non-null  object \n 4   body_type         38504 non-null  object \n 5   category          36018 non-null  object \n 6   colour            36545 non-null  object \n 7   cylinders         36018 non-null  float64\n 8   economy           34586 non-null  float64\n 9   fuel              38478 non-null  object \n 10  last_updated      38506 non-null  object \n 11  litres            36018 non-null  float64\n 12  location          38506 non-null  int64  \n 13  make              38506 non-null  object \n 14  model             38506 non-null  object \n 15  odometer          36956 non-null  float64\n 16  transmission      38499 non-null  object \n 17  year              38506 non-null  int64  \ndtypes: float64(5), int64(3), object(10)\nmemory usage: 5.3+ MB\n"
     ]
    }
   ],
   "source": [
    "df.info()"
   ]
  },
  {
   "cell_type": "code",
   "execution_count": 7,
   "metadata": {},
   "outputs": [
    {
     "output_type": "execute_result",
     "data": {
      "text/plain": [
       "   rownum    price acquisition_date         badge body_type category  colour  \\\n",
       "0       0   8560.0       2017-06-22            RS     Hatch     Used  Silver   \n",
       "1       3  17074.0       2017-06-22          2.0i     Hatch     Used  Silver   \n",
       "2       4   8526.0       2017-06-22             R     Hatch     Used    Blue   \n",
       "3       5  10952.0       2017-06-22             R     Hatch     Used   Black   \n",
       "4       6  33964.0       2017-06-22       WRX STI     Sedan     Used    Grey   \n",
       "5       8  18070.0       2017-06-22        2.0i-S     Hatch     Used   Black   \n",
       "6       9  12019.0       2017-06-22            RS     Sedan     Used    Grey   \n",
       "7      10  10860.0       2017-06-22             R     Sedan  Private     Red   \n",
       "8      11  12997.0       2017-06-22            RS     Sedan     Used  Silver   \n",
       "9      12  30216.0       2017-06-22  2.0i Premium     Hatch    Other     Red   \n",
       "\n",
       "   cylinders  economy      fuel last_updated  litres  location    make  \\\n",
       "0        4.0      8.9  Unleaded   2017-06-22     2.0         2  Subaru   \n",
       "1        4.0      6.8  Unleaded   2017-06-22     2.0         3  Subaru   \n",
       "2        4.0      8.9  Unleaded   2017-06-22     2.0         6  Subaru   \n",
       "3        4.0      8.8  Unleaded   2017-06-22     2.0         8  Subaru   \n",
       "4        4.0     10.5  Unleaded   2017-06-22     2.5         3  Subaru   \n",
       "5        4.0      6.8  Unleaded   2017-06-22     2.0         7  Subaru   \n",
       "6        4.0      8.9  Unleaded   2017-06-22     2.0         3  Subaru   \n",
       "7        4.0      8.8  Unleaded   2017-06-22     2.0         2  Subaru   \n",
       "8        4.0      8.9  Unleaded   2017-06-22     2.0         2  Subaru   \n",
       "9        4.0      6.6  Unleaded   2017-06-22     2.0         1  Subaru   \n",
       "\n",
       "     model  odometer transmission  year  \n",
       "0  Impreza  134944.0       Manual  2009  \n",
       "1  Impreza   33304.0    Automatic  2014  \n",
       "2  Impreza   81668.0       Manual  2007  \n",
       "3  Impreza   48051.0    Automatic  2009  \n",
       "4  Impreza   51516.0       Manual  2011  \n",
       "5  Impreza   60294.0    Automatic  2012  \n",
       "6  Impreza   96160.0       Manual  2009  \n",
       "7  Impreza  103380.0    Automatic  2011  \n",
       "8  Impreza   88631.0       Manual  2008  \n",
       "9  Impreza     213.0    Automatic  2017  "
      ],
      "text/html": "<div>\n<style scoped>\n    .dataframe tbody tr th:only-of-type {\n        vertical-align: middle;\n    }\n\n    .dataframe tbody tr th {\n        vertical-align: top;\n    }\n\n    .dataframe thead th {\n        text-align: right;\n    }\n</style>\n<table border=\"1\" class=\"dataframe\">\n  <thead>\n    <tr style=\"text-align: right;\">\n      <th></th>\n      <th>rownum</th>\n      <th>price</th>\n      <th>acquisition_date</th>\n      <th>badge</th>\n      <th>body_type</th>\n      <th>category</th>\n      <th>colour</th>\n      <th>cylinders</th>\n      <th>economy</th>\n      <th>fuel</th>\n      <th>last_updated</th>\n      <th>litres</th>\n      <th>location</th>\n      <th>make</th>\n      <th>model</th>\n      <th>odometer</th>\n      <th>transmission</th>\n      <th>year</th>\n    </tr>\n  </thead>\n  <tbody>\n    <tr>\n      <th>0</th>\n      <td>0</td>\n      <td>8560.0</td>\n      <td>2017-06-22</td>\n      <td>RS</td>\n      <td>Hatch</td>\n      <td>Used</td>\n      <td>Silver</td>\n      <td>4.0</td>\n      <td>8.9</td>\n      <td>Unleaded</td>\n      <td>2017-06-22</td>\n      <td>2.0</td>\n      <td>2</td>\n      <td>Subaru</td>\n      <td>Impreza</td>\n      <td>134944.0</td>\n      <td>Manual</td>\n      <td>2009</td>\n    </tr>\n    <tr>\n      <th>1</th>\n      <td>3</td>\n      <td>17074.0</td>\n      <td>2017-06-22</td>\n      <td>2.0i</td>\n      <td>Hatch</td>\n      <td>Used</td>\n      <td>Silver</td>\n      <td>4.0</td>\n      <td>6.8</td>\n      <td>Unleaded</td>\n      <td>2017-06-22</td>\n      <td>2.0</td>\n      <td>3</td>\n      <td>Subaru</td>\n      <td>Impreza</td>\n      <td>33304.0</td>\n      <td>Automatic</td>\n      <td>2014</td>\n    </tr>\n    <tr>\n      <th>2</th>\n      <td>4</td>\n      <td>8526.0</td>\n      <td>2017-06-22</td>\n      <td>R</td>\n      <td>Hatch</td>\n      <td>Used</td>\n      <td>Blue</td>\n      <td>4.0</td>\n      <td>8.9</td>\n      <td>Unleaded</td>\n      <td>2017-06-22</td>\n      <td>2.0</td>\n      <td>6</td>\n      <td>Subaru</td>\n      <td>Impreza</td>\n      <td>81668.0</td>\n      <td>Manual</td>\n      <td>2007</td>\n    </tr>\n    <tr>\n      <th>3</th>\n      <td>5</td>\n      <td>10952.0</td>\n      <td>2017-06-22</td>\n      <td>R</td>\n      <td>Hatch</td>\n      <td>Used</td>\n      <td>Black</td>\n      <td>4.0</td>\n      <td>8.8</td>\n      <td>Unleaded</td>\n      <td>2017-06-22</td>\n      <td>2.0</td>\n      <td>8</td>\n      <td>Subaru</td>\n      <td>Impreza</td>\n      <td>48051.0</td>\n      <td>Automatic</td>\n      <td>2009</td>\n    </tr>\n    <tr>\n      <th>4</th>\n      <td>6</td>\n      <td>33964.0</td>\n      <td>2017-06-22</td>\n      <td>WRX STI</td>\n      <td>Sedan</td>\n      <td>Used</td>\n      <td>Grey</td>\n      <td>4.0</td>\n      <td>10.5</td>\n      <td>Unleaded</td>\n      <td>2017-06-22</td>\n      <td>2.5</td>\n      <td>3</td>\n      <td>Subaru</td>\n      <td>Impreza</td>\n      <td>51516.0</td>\n      <td>Manual</td>\n      <td>2011</td>\n    </tr>\n    <tr>\n      <th>5</th>\n      <td>8</td>\n      <td>18070.0</td>\n      <td>2017-06-22</td>\n      <td>2.0i-S</td>\n      <td>Hatch</td>\n      <td>Used</td>\n      <td>Black</td>\n      <td>4.0</td>\n      <td>6.8</td>\n      <td>Unleaded</td>\n      <td>2017-06-22</td>\n      <td>2.0</td>\n      <td>7</td>\n      <td>Subaru</td>\n      <td>Impreza</td>\n      <td>60294.0</td>\n      <td>Automatic</td>\n      <td>2012</td>\n    </tr>\n    <tr>\n      <th>6</th>\n      <td>9</td>\n      <td>12019.0</td>\n      <td>2017-06-22</td>\n      <td>RS</td>\n      <td>Sedan</td>\n      <td>Used</td>\n      <td>Grey</td>\n      <td>4.0</td>\n      <td>8.9</td>\n      <td>Unleaded</td>\n      <td>2017-06-22</td>\n      <td>2.0</td>\n      <td>3</td>\n      <td>Subaru</td>\n      <td>Impreza</td>\n      <td>96160.0</td>\n      <td>Manual</td>\n      <td>2009</td>\n    </tr>\n    <tr>\n      <th>7</th>\n      <td>10</td>\n      <td>10860.0</td>\n      <td>2017-06-22</td>\n      <td>R</td>\n      <td>Sedan</td>\n      <td>Private</td>\n      <td>Red</td>\n      <td>4.0</td>\n      <td>8.8</td>\n      <td>Unleaded</td>\n      <td>2017-06-22</td>\n      <td>2.0</td>\n      <td>2</td>\n      <td>Subaru</td>\n      <td>Impreza</td>\n      <td>103380.0</td>\n      <td>Automatic</td>\n      <td>2011</td>\n    </tr>\n    <tr>\n      <th>8</th>\n      <td>11</td>\n      <td>12997.0</td>\n      <td>2017-06-22</td>\n      <td>RS</td>\n      <td>Sedan</td>\n      <td>Used</td>\n      <td>Silver</td>\n      <td>4.0</td>\n      <td>8.9</td>\n      <td>Unleaded</td>\n      <td>2017-06-22</td>\n      <td>2.0</td>\n      <td>2</td>\n      <td>Subaru</td>\n      <td>Impreza</td>\n      <td>88631.0</td>\n      <td>Manual</td>\n      <td>2008</td>\n    </tr>\n    <tr>\n      <th>9</th>\n      <td>12</td>\n      <td>30216.0</td>\n      <td>2017-06-22</td>\n      <td>2.0i Premium</td>\n      <td>Hatch</td>\n      <td>Other</td>\n      <td>Red</td>\n      <td>4.0</td>\n      <td>6.6</td>\n      <td>Unleaded</td>\n      <td>2017-06-22</td>\n      <td>2.0</td>\n      <td>1</td>\n      <td>Subaru</td>\n      <td>Impreza</td>\n      <td>213.0</td>\n      <td>Automatic</td>\n      <td>2017</td>\n    </tr>\n  </tbody>\n</table>\n</div>"
     },
     "metadata": {},
     "execution_count": 7
    }
   ],
   "source": [
    "df.head(10)"
   ]
  },
  {
   "cell_type": "code",
   "execution_count": null,
   "metadata": {},
   "outputs": [],
   "source": []
  }
 ]
}